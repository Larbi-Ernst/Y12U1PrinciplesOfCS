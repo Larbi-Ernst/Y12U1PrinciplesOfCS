{
 "cells": [
  {
   "cell_type": "code",
   "execution_count": null,
   "metadata": {
    "scrolled": false
   },
   "outputs": [],
   "source": [
    "import random\n",
    "DiceDataRange = 2\n",
    "Information = []\n",
    "message = [\"Sides of dice\",\"how many rolls\"]\n",
    "[Information.append(int(input(message[i]+\":\"))) for i in range(0,DiceDataRange)]\n",
    "Sides = Information[0]\n",
    "Rolls = Information[1]\n",
    "for i in range(Rolls):\n",
    "    Diceroll = random.randint(1,Sides)\n",
    "    print(Diceroll)\n"
   ]
  },
  {
   "cell_type": "code",
   "execution_count": null,
   "metadata": {
    "collapsed": true
   },
   "outputs": [],
   "source": []
  }
 ],
 "metadata": {
  "kernelspec": {
   "display_name": "Python 3",
   "language": "python",
   "name": "python3"
  },
  "language_info": {
   "codemirror_mode": {
    "name": "ipython",
    "version": 3
   },
   "file_extension": ".py",
   "mimetype": "text/x-python",
   "name": "python",
   "nbconvert_exporter": "python",
   "pygments_lexer": "ipython3",
   "version": "3.5.2"
  }
 },
 "nbformat": 4,
 "nbformat_minor": 2
}
