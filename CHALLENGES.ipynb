{
 "cells": [
  {
   "cell_type": "code",
   "execution_count": 1,
   "metadata": {
    "scrolled": false
   },
   "outputs": [
    {
     "name": "stdout",
     "output_type": "stream",
     "text": [
      "Sides of dice:5\n",
      "how many rolls:2\n",
      "2\n",
      "3\n"
     ]
    }
   ],
   "source": [
    "import random\n",
    "DiceDataRange = 2\n",
    "Information = []\n",
    "message = [\"Sides of dice\",\"how many rolls\"]\n",
    "[Information.append(int(input(message[i]+\":\"))) for i in range(0,DiceDataRange)]\n",
    "Sides = Information[0]\n",
    "Rolls = Information[1]\n",
    "for i in range(Rolls):\n",
    "    Diceroll = random.randint(1,Sides)\n",
    "    print(Diceroll)\n"
   ]
  },
  {
   "cell_type": "code",
   "execution_count": 3,
   "metadata": {},
   "outputs": [
    {
     "name": "stdout",
     "output_type": "stream",
     "text": [
      "temperature:50\n",
      "unit(C/F):C\n",
      "The temperature is 50 degrees celsius\n",
      "Thats hot! don't wear warm clothing and bring suncream.\n"
     ]
    }
   ],
   "source": [
    "\n",
    "question = [\"temperature\",\"unit(C/F)\"]\n",
    "value = []\n",
    "[value.append(input(question[x] + \":\")) for x in range(2)]\n",
    "    \n",
    "if value[1].lower() == \"c\":\n",
    "    CELSIUS = int(value[0])\n",
    "elif value[1].lower() == \"f\":\n",
    "    FAHRENHEIT = int(value[0])\n",
    "    CELSIUS = (5*(FAHRENHEIT - 32))/9\n",
    "else:\n",
    "    print(\"Value error\")\n",
    "print(\"The temperature is \"+str(CELSIUS)+\" degrees celsius\")\n",
    "if CELSIUS < 15 and CELSIUS < 10:\n",
    "    print(\"Casual clothing\")\n",
    "elif CELSIUS < 10:\n",
    "    print(\"Warm clothing and bring a coat!\")\n",
    "elif CELSIUS > 15 and CELSIUS < 20:\n",
    "    print(\"Pretty warm, don't wear too much clothing\")\n",
    "else:\n",
    "    print(\"Thats hot! don't wear warm clothing and bring suncream.\")\n",
    "\n"
   ]
  },
  {
   "cell_type": "code",
   "execution_count": null,
   "metadata": {},
   "outputs": [],
   "source": [
    "VALUES = [[\"Age\",\"Adult present\"],[]]\n",
    "[VALUES[1].append(input(VALUES[0][x]+\"?:\")) for x in range(2)]\n",
    "print(VALUES)\n",
    "if int(VALUES[1][0]) > 10:\n",
    "    print(\"You may enter\")\n",
    "elif VALUES[1][1] == \"no\":\n",
    "    print(\"you may not enter\")\n",
    "else:\n",
    "    print(\"you may enter\")"
   ]
  },
  {
   "cell_type": "code",
   "execution_count": null,
   "metadata": {
    "collapsed": true
   },
   "outputs": [],
   "source": []
  }
 ],
 "metadata": {
  "kernelspec": {
   "display_name": "Python 3",
   "language": "python",
   "name": "python3"
  },
  "language_info": {
   "codemirror_mode": {
    "name": "ipython",
    "version": 3
   },
   "file_extension": ".py",
   "mimetype": "text/x-python",
   "name": "python",
   "nbconvert_exporter": "python",
   "pygments_lexer": "ipython3",
   "version": "3.5.2"
  }
 },
 "nbformat": 4,
 "nbformat_minor": 2
}
